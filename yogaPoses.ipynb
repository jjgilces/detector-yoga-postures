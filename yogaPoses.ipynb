{
 "cells": [
  {
   "cell_type": "markdown",
   "id": "9f93d921",
   "metadata": {},
   "source": [
    "# Recognition of Yoga Postures"
   ]
  },
  {
   "cell_type": "code",
   "execution_count": 1,
   "id": "2f3070e8",
   "metadata": {},
   "outputs": [
    {
     "name": "stdout",
     "output_type": "stream",
     "text": [
      "Mon Aug 21 12:09:57 2023       \n",
      "+-----------------------------------------------------------------------------+\n",
      "| NVIDIA-SMI 515.105.01   Driver Version: 515.105.01   CUDA Version: 11.7     |\n",
      "|-------------------------------+----------------------+----------------------+\n",
      "| GPU  Name        Persistence-M| Bus-Id        Disp.A | Volatile Uncorr. ECC |\n",
      "| Fan  Temp  Perf  Pwr:Usage/Cap|         Memory-Usage | GPU-Util  Compute M. |\n",
      "|                               |                      |               MIG M. |\n",
      "|===============================+======================+======================|\n",
      "|   0  NVIDIA A100-SXM...  On   | 00000000:0F:00.0 Off |                    0 |\n",
      "| N/A   30C    P0    54W / 400W |      0MiB / 40960MiB |      0%      Default |\n",
      "|                               |                      |             Disabled |\n",
      "+-------------------------------+----------------------+----------------------+\n",
      "|   1  NVIDIA A100-SXM...  On   | 00000000:90:00.0 Off |                    0 |\n",
      "| N/A   37C    P0    56W / 400W |      0MiB / 40960MiB |      0%      Default |\n",
      "|                               |                      |             Disabled |\n",
      "+-------------------------------+----------------------+----------------------+\n",
      "|   2  NVIDIA A100-SXM...  On   | 00000000:B7:00.0 Off |                    0 |\n",
      "| N/A   37C    P0    57W / 400W |      0MiB / 40960MiB |      0%      Default |\n",
      "|                               |                      |             Disabled |\n",
      "+-------------------------------+----------------------+----------------------+\n",
      "|   3  NVIDIA A100-SXM...  On   | 00000000:BD:00.0 Off |                    0 |\n",
      "| N/A   39C    P0    55W / 400W |      0MiB / 40960MiB |      0%      Default |\n",
      "|                               |                      |             Disabled |\n",
      "+-------------------------------+----------------------+----------------------+\n",
      "                                                                               \n",
      "+-----------------------------------------------------------------------------+\n",
      "| Processes:                                                                  |\n",
      "|  GPU   GI   CI        PID   Type   Process name                  GPU Memory |\n",
      "|        ID   ID                                                   Usage      |\n",
      "|=============================================================================|\n",
      "|  No running processes found                                                 |\n",
      "+-----------------------------------------------------------------------------+\n"
     ]
    }
   ],
   "source": [
    "!nvidia-smi"
   ]
  },
  {
   "cell_type": "code",
   "execution_count": null,
   "id": "3829b7bc",
   "metadata": {},
   "outputs": [],
   "source": [
    "# !kill -9 3582186"
   ]
  },
  {
   "cell_type": "code",
   "execution_count": 2,
   "id": "c78b9001",
   "metadata": {},
   "outputs": [
    {
     "name": "stdout",
     "output_type": "stream",
     "text": [
      "/home/andrea.merov2/Yoga/3v detector-yoga-postures\n"
     ]
    }
   ],
   "source": [
    "!pwd"
   ]
  },
  {
   "cell_type": "code",
   "execution_count": 3,
   "id": "dd9eee8f",
   "metadata": {},
   "outputs": [
    {
     "name": "stdout",
     "output_type": "stream",
     "text": [
      "Defaulting to user installation because normal site-packages is not writeable\n",
      "Looking in indexes: https://pypi.org/simple, https://pypi.ngc.nvidia.com\n",
      "Requirement already satisfied: Augmentor in /home/andrea.merov2/.local/lib/python3.8/site-packages (0.2.12)\n",
      "Requirement already satisfied: tqdm>=4.9.0 in /opt/conda/lib/python3.8/site-packages (from Augmentor) (4.62.3)\n",
      "Requirement already satisfied: numpy>=1.11.0 in /home/andrea.merov2/.local/lib/python3.8/site-packages (from Augmentor) (1.22.4)\n",
      "Requirement already satisfied: Pillow>=5.2.0 in /home/andrea.merov2/.local/lib/python3.8/site-packages (from Augmentor) (10.0.0)\n"
     ]
    }
   ],
   "source": [
    "!pip install Augmentor"
   ]
  },
  {
   "cell_type": "code",
   "execution_count": 4,
   "id": "90b0a1fb",
   "metadata": {},
   "outputs": [],
   "source": [
    "#libraries to be used\n",
    "import os\n",
    "os.environ['TF_CPP_MIN_LOG_LEVEL'] = '3'\n",
    "import shutil\n",
    "import numpy as np\n",
    "import random\n",
    "import shutil\n",
    "import tensorflow as tf\n",
    "from tensorflow.keras.preprocessing.image import ImageDataGenerator\n",
    "from tensorflow.keras import layers, models\n",
    "from tensorflow.keras.models import Sequential\n",
    "from sklearn.metrics import classification_report\n",
    "from shutil import copyfile\n",
    "import matplotlib.pyplot as plt\n",
    "from keras.callbacks import ModelCheckpoint\n",
    "from utils import split_data\n",
    "from fastai.vision.all import get_image_files,verify_images\n",
    "from sklearn.metrics import confusion_matrix\n",
    "import seaborn as sns\n",
    "from tensorflow.keras.callbacks import TensorBoard\n",
    "from tensorflow.keras.losses import categorical_crossentropy,SparseCategoricalCrossentropy\n",
    "from tensorflow.keras.optimizers.legacy import Adam\n",
    "from tensorflow.keras.layers import Conv2D, MaxPooling2D, Flatten, Dense\n",
    "import datetime\n",
    "from PIL import Image\n",
    "from PIL import ImageOps\n",
    "import Augmentor\n"
   ]
  },
  {
   "cell_type": "code",
   "execution_count": 5,
   "id": "2c762c06",
   "metadata": {},
   "outputs": [
    {
     "name": "stdout",
     "output_type": "stream",
     "text": [
      "GPU con soporte CUDA disponible\n"
     ]
    }
   ],
   "source": [
    "# check if CUDA is available to use GPU on the training \n",
    "train_on_gpu = tf.config.list_physical_devices('GPU')\n",
    "if train_on_gpu:\n",
    "    print('GPU con soporte CUDA disponible')\n",
    "else:\n",
    "    print('No se encontró GPU con soporte CUDA')"
   ]
  },
  {
   "cell_type": "markdown",
   "id": "6b02a78c",
   "metadata": {},
   "source": [
    "## Data preprocessing"
   ]
  },
  {
   "cell_type": "code",
   "execution_count": 6,
   "id": "c151830c",
   "metadata": {},
   "outputs": [
    {
     "data": {
      "text/plain": [
       "(#0) []"
      ]
     },
     "execution_count": 6,
     "metadata": {},
     "output_type": "execute_result"
    }
   ],
   "source": [
    "images=get_image_files('home/andrea.merov2/Yoga/detector-yoga-postures/DATA')\n",
    "images\n",
    "failed = verify_images(images)\n",
    "failed"
   ]
  },
  {
   "cell_type": "code",
   "execution_count": 49,
   "id": "53ebc934",
   "metadata": {},
   "outputs": [],
   "source": [
    "def convert_images_in_folder(input_folder, output_folder, new_extension, target_size):\n",
    "    if not os.path.exists(output_folder):\n",
    "        os.makedirs(output_folder)\n",
    "\n",
    "    for root, _, files in os.walk(input_folder):\n",
    "        for filename in files:\n",
    "            if filename.lower().endswith(('.png', '.jpeg', '.gif', '.bmp')):\n",
    "                img = Image.open(os.path.join(root, filename))\n",
    "                \n",
    "                # Convert images to RGB mode before saving as JPEG\n",
    "                if img.mode in ('P', 'RGBA', 'LA'):\n",
    "                    img = img.convert('RGB')\n",
    "                \n",
    "                # Resize the image to the target size\n",
    "                img = img.resize(target_size, Image.Resampling.LANCZOS)\n",
    "                \n",
    "                new_filename = os.path.splitext(filename)[0] + new_extension\n",
    "                output_subfolder = os.path.relpath(root, input_folder)\n",
    "                output_subfolder_path = os.path.join(output_folder, output_subfolder)\n",
    "                \n",
    "                if not os.path.exists(output_subfolder_path):\n",
    "                    os.makedirs(output_subfolder_path)\n",
    "                \n",
    "                img.save(os.path.join(output_subfolder_path, new_filename), \"JPEG\", quality=100)\n",
    "                img.close()\n",
    "\n",
    "    print(\"Conversion completed.\")\n",
    "\n"
   ]
  },
  {
   "cell_type": "code",
   "execution_count": 50,
   "id": "1f066c01",
   "metadata": {},
   "outputs": [
    {
     "name": "stdout",
     "output_type": "stream",
     "text": [
      "Conversion completed.\n"
     ]
    }
   ],
   "source": [
    "input_folder = \"/home/andrea.merov2/Yoga/detector-yoga-postures/DATA\"\n",
    "output_folder = \"/home/andrea.merov2/Yoga/detector-yoga-postures/newDATA\"\n",
    "new_extension = \".jpg\"\n",
    "target_size = (224, 224)\n",
    "\n",
    "convert_images_in_folder(input_folder, output_folder, new_extension, target_size)"
   ]
  },
  {
   "cell_type": "code",
   "execution_count": 95,
   "id": "0d3ef429",
   "metadata": {},
   "outputs": [],
   "source": [
    "def augment_and_resize_images(input_folder, output_folder, new_extension, target_size, max_images):\n",
    "    if not os.path.exists(output_folder):\n",
    "        os.makedirs(output_folder)\n",
    "\n",
    "    for class_folder in os.listdir(input_folder):\n",
    "        class_path = os.path.join(input_folder, class_folder)\n",
    "        if os.path.isdir(class_path):\n",
    "            output_class_path = os.path.join(output_folder, class_folder)\n",
    "            if not os.path.exists(output_class_path):\n",
    "                os.makedirs(output_class_path)\n",
    "            \n",
    "            p = Augmentor.Pipeline(source_directory=class_path, output_directory=output_class_path)\n",
    "            \n",
    "            # Augmentation operations\n",
    "            p.random_contrast(probability=0.5, min_factor=0.8, max_factor=1.2)\n",
    "            p.random_brightness(probability=0.5, min_factor=0.8, max_factor=1.2)\n",
    "            p.random_color(probability=0.5, min_factor=0.8, max_factor=1.2)\n",
    "            p.random_distortion(probability=0.5, grid_width=4, grid_height=4, magnitude=8)\n",
    "            \n",
    "            # Resize the augmented images\n",
    "            p.resize(probability=1.0, width=target_size[0], height=target_size[1])\n",
    "            \n",
    "            # Generate up to max_images per class\n",
    "            num_generated_images = min(max_images, len(os.listdir(class_path)))\n",
    "            p.sample(num_generated_images)\n",
    "            \n",
    "            # Rename the augmented images\n",
    "            new_filenames = [f\"aug_{os.path.splitext(file)[0]}\" for file in os.listdir(output_class_path)]\n",
    "            for old_name, new_name in zip(os.listdir(output_class_path), new_filenames):\n",
    "                os.rename(\n",
    "                    os.path.join(output_class_path, old_name),\n",
    "                    os.path.join(output_class_path, f\"{new_name}.{new_extension}\")\n",
    "                )\n",
    "\n",
    "            print(f\"Augmentation, resizing, and renaming completed for class: {class_folder}\")\n",
    "\n"
   ]
  },
  {
   "cell_type": "code",
   "execution_count": 96,
   "id": "06b8e38e",
   "metadata": {},
   "outputs": [
    {
     "name": "stdout",
     "output_type": "stream",
     "text": [
      "Initialised with 96 image(s) found.\n",
      "Output directory set to /home/andrea.merov2/Yoga/detector-yoga-postures/augDATA/downdog."
     ]
    },
    {
     "name": "stderr",
     "output_type": "stream",
     "text": [
      "Processing <PIL.Image.Image image mode=RGB size=224x224>: 100%|██████████| 96/96 [00:00<00:00, 262.26 Samples/s]\n"
     ]
    },
    {
     "name": "stdout",
     "output_type": "stream",
     "text": [
      "Augmentation, resizing, and renaming completed for class: downdog\n",
      "Initialised with 86 image(s) found.\n",
      "Output directory set to /home/andrea.merov2/Yoga/detector-yoga-postures/augDATA/plank."
     ]
    },
    {
     "name": "stderr",
     "output_type": "stream",
     "text": [
      "Processing <PIL.Image.Image image mode=RGB size=224x224>: 100%|██████████| 86/86 [00:00<00:00, 249.88 Samples/s]\n"
     ]
    },
    {
     "name": "stdout",
     "output_type": "stream",
     "text": [
      "Augmentation, resizing, and renaming completed for class: plank\n",
      "Initialised with 79 image(s) found.\n",
      "Output directory set to /home/andrea.merov2/Yoga/detector-yoga-postures/augDATA/tree."
     ]
    },
    {
     "name": "stderr",
     "output_type": "stream",
     "text": [
      "Processing <PIL.Image.Image image mode=RGB size=224x224>: 100%|██████████| 79/79 [00:00<00:00, 231.32 Samples/s]\n"
     ]
    },
    {
     "name": "stdout",
     "output_type": "stream",
     "text": [
      "Augmentation, resizing, and renaming completed for class: tree\n",
      "Initialised with 75 image(s) found.\n",
      "Output directory set to /home/andrea.merov2/Yoga/detector-yoga-postures/augDATA/warrior."
     ]
    },
    {
     "name": "stderr",
     "output_type": "stream",
     "text": [
      "Processing <PIL.Image.Image image mode=RGB size=224x224>: 100%|██████████| 75/75 [00:00<00:00, 221.52 Samples/s]\n"
     ]
    },
    {
     "name": "stdout",
     "output_type": "stream",
     "text": [
      "Augmentation, resizing, and renaming completed for class: warrior\n"
     ]
    }
   ],
   "source": [
    "input_folder = \"/home/andrea.merov2/Yoga/detector-yoga-postures/newDATA\"\n",
    "output_folder = \"/home/andrea.merov2/Yoga/detector-yoga-postures/augDATA\"\n",
    "new_extension = \".jpg\"\n",
    "target_size = (224, 224)\n",
    "max_images = 3600\n",
    "\n",
    "augment_and_resize_images(input_folder, output_folder, new_extension, target_size, max_images)"
   ]
  },
  {
   "cell_type": "code",
   "execution_count": 97,
   "id": "790868e8",
   "metadata": {},
   "outputs": [
    {
     "name": "stdout",
     "output_type": "stream",
     "text": [
      "['downdog', 'plank', 'tree', 'warrior']\n"
     ]
    }
   ],
   "source": [
    "# Replace 'data' with the actual path to your data folder\n",
    "data_path = '/home/andrea.merov2/Yoga/detector-yoga-postures/augDATA'\n",
    "\n",
    "\n",
    "# List all subdirectories within the data folder\n",
    "subdirectories = [d for d in os.listdir(data_path) if os.path.isdir(os.path.join(data_path, d))]\n",
    "\n",
    "# Modify filenames in each subdirectory\n",
    "for subdir in subdirectories:\n",
    "    subfolder_path = os.path.join(data_path, subdir)\n",
    "    file_names = os.listdir(subfolder_path)\n",
    "    \n",
    "    for old_name in file_names:\n",
    "        if old_name.endswith('.jpg'):\n",
    "            new_name = old_name.split('_')[0] + old_name.split('_')[1] + old_name.split('_')[2] + old_name.split('_')[3] \n",
    "            old_path = os.path.join(subfolder_path, old_name)\n",
    "            new_path = os.path.join(subfolder_path, new_name)\n",
    "            os.rename(old_path, new_path)\n",
    "#             print(f'Renamed: {old_name} -> {new_name}')\n",
    "\n"
   ]
  },
  {
   "cell_type": "code",
   "execution_count": 7,
   "id": "45fedfc1",
   "metadata": {},
   "outputs": [],
   "source": [
    "# Define paths for the images\n",
    "downdog_SRC_DIR = \"newDATA/downdog\"\n",
    "goddess_SRC_DIR = \"newDATA/goddess\"\n",
    "plank_SRC_DIR = \"newDATA/plank\"\n",
    "tree_SRC_DIR = \"newDATA/tree\"\n",
    "warrior_SRC_DIR = \"newDATA/warrior\"\n",
    "TRAINING_DIR = \"dataset/training\"\n",
    "VALIDATION_DIR = \"dataset/validation\"\n",
    "TEST_DIR = \"dataset/test\"\n",
    "#splitting the dataset\n",
    "TRAINING_DDG_DIR = os.path.join(TRAINING_DIR, \"downdog/\")\n",
    "VALIDATION_DDG_DIR = os.path.join(VALIDATION_DIR, \"downdog/\")\n",
    "TEST_DDG_DIR = os.path.join(TEST_DIR, \"downdog/\")\n",
    "\n",
    "TRAINING_GDS_DIR = os.path.join(TRAINING_DIR, \"goddess/\")\n",
    "VALIDATION_GDS_DIR = os.path.join(VALIDATION_DIR, \"goddess/\")\n",
    "TEST_GDS_DIR = os.path.join(TEST_DIR, \"goddess/\")\n",
    "\n",
    "TRAINING_PLANK_DIR = os.path.join(TRAINING_DIR, \"plank/\")\n",
    "VALIDATION_PLANK_DIR = os.path.join(VALIDATION_DIR, \"plank/\")\n",
    "TEST_PLANK_DIR = os.path.join(TEST_DIR, \"plank/\")\n",
    "\n",
    "TRAINING_TREE_DIR = os.path.join(TRAINING_DIR, \"tree/\")\n",
    "VALIDATION_TREE_DIR = os.path.join(VALIDATION_DIR, \"tree/\")\n",
    "TEST_TREE_DIR = os.path.join(TEST_DIR, \"tree/\")\n",
    "\n",
    "TRAINING_WR_DIR = os.path.join(TRAINING_DIR, \"warrior/\")\n",
    "VALIDATION_WR_DIR = os.path.join(VALIDATION_DIR, \"warrior/\")\n",
    "TEST_WR_DIR = os.path.join(TEST_DIR, \"warrior/\")"
   ]
  },
  {
   "cell_type": "code",
   "execution_count": 8,
   "id": "652a70d7",
   "metadata": {},
   "outputs": [
    {
     "name": "stdout",
     "output_type": "stream",
     "text": [
      "Splitting data completed.\n",
      "Splitting data completed.\n",
      "Splitting data completed.\n",
      "Splitting data completed.\n"
     ]
    }
   ],
   "source": [
    "# Define proportion of images used for training\n",
    "train_size = 0.8\n",
    "val_size = 0.1\n",
    "test_size = 0.1\n",
    "\n",
    "split_data(downdog_SRC_DIR,\n",
    "           TRAINING_DDG_DIR,\n",
    "           VALIDATION_DDG_DIR,\n",
    "           TEST_DDG_DIR,\n",
    "           split_ratio=(train_size,val_size, test_size))\n",
    "\n",
    "split_data(plank_SRC_DIR,\n",
    "           TRAINING_PLANK_DIR,\n",
    "           VALIDATION_PLANK_DIR,\n",
    "           TEST_PLANK_DIR,\n",
    "           split_ratio=(train_size,val_size, test_size))\n",
    "\n",
    "split_data(tree_SRC_DIR,\n",
    "           TRAINING_TREE_DIR,\n",
    "           VALIDATION_TREE_DIR,\n",
    "           TEST_TREE_DIR,\n",
    "           split_ratio=(train_size,val_size, test_size))\n",
    "split_data(warrior_SRC_DIR,\n",
    "           TRAINING_WR_DIR,\n",
    "           VALIDATION_WR_DIR,\n",
    "           TEST_WR_DIR,\n",
    "           split_ratio=(train_size,val_size, test_size))"
   ]
  },
  {
   "cell_type": "code",
   "execution_count": 9,
   "id": "7c67ac9e",
   "metadata": {},
   "outputs": [
    {
     "name": "stdout",
     "output_type": "stream",
     "text": [
      "Original Downdog directory has 467 images\n",
      "Original Plank directory has 755 images\n",
      "Original Tree directory has 565 images\n",
      "Original Warrior directory has 351 images\n",
      "\n",
      "There are 373 images of Dogdown for training\n",
      "There are 604 images of Plank for training\n",
      "There are 452 images of Tree for training\n",
      "There are 280 images of Warrior for training\n",
      "\n",
      "There are 46 images of Dogdown for validation\n",
      "There are 75 images of Plank for validation\n",
      "There are 56 images of Tree for validation\n",
      "There are 35 images of Warrior for validation\n",
      "\n",
      "There are 48 images of Dogdown for test\n",
      "There are 76 images of Plank for test\n",
      "There are 57 images of Plank for test\n",
      "There are 36 images of tree for test\n"
     ]
    }
   ],
   "source": [
    "print(f\"Original Downdog directory has {len(os.listdir(downdog_SRC_DIR))} images\")\n",
    "print(f\"Original Plank directory has {len(os.listdir(plank_SRC_DIR))} images\")\n",
    "print(f\"Original Tree directory has {len(os.listdir(tree_SRC_DIR))} images\")\n",
    "print(f\"Original Warrior directory has {len(os.listdir(warrior_SRC_DIR))} images\\n\")\n",
    "\n",
    "# Training and validation splits\n",
    "print(f\"There are {len(os.listdir(TRAINING_DDG_DIR))} images of Dogdown for training\")\n",
    "print(f\"There are {len(os.listdir(TRAINING_PLANK_DIR))} images of Plank for training\")\n",
    "print(f\"There are {len(os.listdir(TRAINING_TREE_DIR))} images of Tree for training\")\n",
    "print(f\"There are {len(os.listdir(TRAINING_WR_DIR))} images of Warrior for training\\n\")\n",
    "\n",
    "print(f\"There are {len(os.listdir(VALIDATION_DDG_DIR))} images of Dogdown for validation\")           \n",
    "print(f\"There are {len(os.listdir(VALIDATION_PLANK_DIR))} images of Plank for validation\")\n",
    "print(f\"There are {len(os.listdir(VALIDATION_TREE_DIR))} images of Tree for validation\")\n",
    "print(f\"There are {len(os.listdir(VALIDATION_WR_DIR))} images of Warrior for validation\\n\")\n",
    "\n",
    "print(f\"There are {len(os.listdir(TEST_DDG_DIR))} images of Dogdown for test\")\n",
    "print(f\"There are {len(os.listdir(TEST_PLANK_DIR))} images of Plank for test\")\n",
    "print(f\"There are {len(os.listdir(TEST_TREE_DIR))} images of Plank for test\")\n",
    "print(f\"There are {len(os.listdir(TEST_WR_DIR))} images of tree for test\")"
   ]
  },
  {
   "cell_type": "code",
   "execution_count": 10,
   "id": "554d45c2",
   "metadata": {},
   "outputs": [],
   "source": [
    "# Definir un generador de imágenes con transformaciones\n",
    "batch_size = 16\n",
    "width=224\n",
    "height=224\n",
    "data_generator = ImageDataGenerator(\n",
    "    rescale=1.0/255,\n",
    "    rotation_range=10,\n",
    "    width_shift_range=0.1,\n",
    "    height_shift_range=0.1,\n",
    "    shear_range=0.2,\n",
    "    zoom_range=0.2,\n",
    "    horizontal_flip=True,\n",
    "    fill_mode='nearest',\n",
    "    brightness_range=[0.6,1.0],\n",
    "    validation_split=0.20\n",
    ")\n",
    "posture_names = [\"downdog\", \"plank\", \"tree\", \"warrior\"]"
   ]
  },
  {
   "cell_type": "code",
   "execution_count": 11,
   "id": "f1cc2824",
   "metadata": {},
   "outputs": [
    {
     "name": "stdout",
     "output_type": "stream",
     "text": [
      "Found 1709 images belonging to 4 classes.\n",
      "Found 212 images belonging to 4 classes.\n",
      "Found 217 images belonging to 4 classes.\n"
     ]
    }
   ],
   "source": [
    "train_data = data_generator.flow_from_directory(\n",
    "    TRAINING_DIR,\n",
    "    classes = posture_names,\n",
    "    target_size=(width, height),\n",
    "    batch_size=batch_size,\n",
    "    class_mode='sparse',  \n",
    "    color_mode=\"rgb\"\n",
    ")\n",
    "\n",
    "validation_data = data_generator.flow_from_directory(\n",
    "    VALIDATION_DIR,\n",
    "    classes = posture_names,\n",
    "    target_size=(width, height),\n",
    "    batch_size=batch_size,\n",
    "    color_mode=\"rgb\",\n",
    "    class_mode='sparse',\n",
    ")\n",
    "\n",
    "test_data = data_generator.flow_from_directory(\n",
    "    TEST_DIR,\n",
    "    classes = posture_names,\n",
    "    target_size=(width, height),\n",
    "    batch_size=batch_size,\n",
    "    color_mode=\"rgb\",\n",
    "    class_mode='sparse',\n",
    ")\n"
   ]
  },
  {
   "cell_type": "code",
   "execution_count": 12,
   "id": "88be9c59",
   "metadata": {},
   "outputs": [
    {
     "name": "stdout",
     "output_type": "stream",
     "text": [
      "['downdog', 'plank', 'tree', 'warrior']\n"
     ]
    },
    {
     "data": {
      "image/png": "[encoded data removed]",
      "text/plain": [
       "<Figure size 720x360 with 9 Axes>"
      ]
     },
     "metadata": {
      "needs_background": "light"
     },
     "output_type": "display_data"
    }
   ],
   "source": [
    "# Obtener un lote de imágenes y etiquetas del generador de datos\n",
    "images, labels = next(train_data)\n",
    "\n",
    "# Etiquetas de las clases (nombre de las carpetas)\n",
    "class_labels = list(train_data.class_indices.keys())\n",
    "print(class_labels)\n",
    "# Configurar subplots\n",
    "num_images = 8\n",
    "num_cols = 3 # Número de columnas en la cuadrícula\n",
    "num_rows = (num_images + num_cols - 1) // num_cols  # Calcular el número de filas necesarias\n",
    "\n",
    "# Crear una cuadrícula de subplots\n",
    "fig, axes = plt.subplots(num_rows, num_cols, figsize=(10, 5))\n",
    "\n",
    "# Iterar a través de las imágenes y subplots\n",
    "for i, ax in enumerate(axes.flatten()):\n",
    "    if i < num_images:\n",
    "        image = images[i]\n",
    "        label = class_labels[int(labels[i])]\n",
    "        \n",
    "        ax.imshow(image)\n",
    "        ax.set_title(f\"Clase: {label}\")\n",
    "        ax.axis('off')\n",
    "    else:\n",
    "        ax.axis('off')\n",
    "\n",
    "plt.tight_layout()\n",
    "plt.show()\n"
   ]
  },
  {
   "cell_type": "code",
   "execution_count": 13,
   "id": "a029a460",
   "metadata": {},
   "outputs": [],
   "source": [
    "def VGG19(input_shape=(224, 224, 3), num_classes=5):\n",
    "    model = Sequential()\n",
    "\n",
    "    # Primera sección: 2x Conv -> MaxPool\n",
    "    model.add(Conv2D(64, (3, 3), activation='relu', padding='same', input_shape=input_shape))\n",
    "    model.add(Conv2D(64, (3, 3), activation='relu', padding='same'))\n",
    "    model.add(MaxPooling2D(pool_size=(2, 2), strides=(2, 2)))\n",
    "\n",
    "    # Segunda sección: 2x Conv -> MaxPool\n",
    "    model.add(Conv2D(128, (3, 3), activation='relu', padding='same'))\n",
    "    model.add(Conv2D(128, (3, 3), activation='relu', padding='same'))\n",
    "    model.add(MaxPooling2D(pool_size=(2, 2), strides=(2, 2)))\n",
    "\n",
    "    # Tercera sección: 4x Conv -> MaxPool\n",
    "    model.add(Conv2D(256, (3, 3), activation='relu', padding='same'))\n",
    "    model.add(Conv2D(256, (3, 3), activation='relu', padding='same'))\n",
    "    model.add(Conv2D(256, (3, 3), activation='relu', padding='same'))\n",
    "    model.add(Conv2D(256, (3, 3), activation='relu', padding='same'))\n",
    "    model.add(MaxPooling2D(pool_size=(2, 2), strides=(2, 2)))\n",
    "\n",
    "    # Cuarta sección: 4x Conv -> MaxPool\n",
    "    model.add(Conv2D(512, (3, 3), activation='relu', padding='same'))\n",
    "    model.add(Conv2D(512, (3, 3), activation='relu', padding='same'))\n",
    "    model.add(Conv2D(512, (3, 3), activation='relu', padding='same'))\n",
    "    model.add(Conv2D(512, (3, 3), activation='relu', padding='same'))\n",
    "    model.add(MaxPooling2D(pool_size=(2, 2), strides=(2, 2)))\n",
    "\n",
    "    # Quinta sección: 4x Conv -> MaxPool\n",
    "    model.add(Conv2D(512, (3, 3), activation='relu', padding='same'))\n",
    "    model.add(Conv2D(512, (3, 3), activation='relu', padding='same'))\n",
    "    model.add(Conv2D(512, (3, 3), activation='relu', padding='same'))\n",
    "    model.add(Conv2D(512, (3, 3), activation='relu', padding='same'))\n",
    "    model.add(MaxPooling2D(pool_size=(2, 2), strides=(2, 2)))\n",
    "\n",
    "    # Sección fully connected\n",
    "    model.add(Flatten())\n",
    "    model.add(Dense(4096, activation='relu'))\n",
    "    model.add(Dense(1024, activation='relu'))#paso mas lento\n",
    "    model.add(Dense(1024, activation='relu'))\n",
    "    model.add(Dense(num_classes, activation='softmax'))\n",
    "\n",
    "    return model\n",
    "\n"
   ]
  },
  {
   "cell_type": "code",
   "execution_count": 14,
   "id": "f16d682e",
   "metadata": {},
   "outputs": [],
   "source": [
    "class TransferNetVGG19(models.Model):\n",
    "    def __init__(self, base_model_weights=None):\n",
    "        super(TransferNetVGG19, self).__init__()\n",
    "        self.base_model = tf.keras.applications.VGG19(include_top=False, weights=base_model_weights, input_shape=(224, 224, 3))\n",
    "        for layer in self.base_model.layers:\n",
    "            layer.trainable = False  # Freeze VGG19 layers initially\n",
    "        self.flatten = layers.Flatten()\n",
    "        \n",
    "        # Simplified dense layers\n",
    "        self.fc1 = layers.Dense(4096, activation='relu')\n",
    "        self.fc2 = layers.Dense(4096, activation='relu')\n",
    "        self.fc3 = layers.Dense(1024, activation='relu')\n",
    "        self.fc_dropout1 = layers.Dropout(0.3)\n",
    "        self.fc4 = layers.Dense(32, activation='relu')\n",
    "        self.fc_dropout2 = layers.Dropout(0.3)\n",
    "        self.fc5 = layers.Dense(5, activation='softmax')\n",
    "\n",
    "    def call(self, x):\n",
    "        x = self.base_model(x)\n",
    "        x = self.flatten(x)\n",
    "        x = self.fc1(x)\n",
    "        x = self.fc2(x)\n",
    "        x = self.fc_dropout1(x)\n",
    "        x = self.fc3(x)\n",
    "        x = self.fc_dropout2(x)\n",
    "        x = self.fc4(x)\n",
    "        x = self.fc5(x)\n",
    "        return x\n",
    "\n",
    "    def get_config(self):\n",
    "        return {\"base_model_name\": \"VGG19\"}\n",
    "\n",
    "    @classmethod\n",
    "    def from_config(cls, config):\n",
    "        if config[\"base_model_name\"] == \"VGG19\":\n",
    "            return cls(base_model_weights=\"imagenet\")\n"
   ]
  },
  {
   "cell_type": "code",
   "execution_count": 19,
   "id": "bee447b7",
   "metadata": {},
   "outputs": [],
   "source": [
    "#model = Net()\n",
    "#model = ImprovedNet()\n",
    "#model = TransferNet()\n",
    "#model = ModifiedTransferNetResNet()\n",
    "#model= VGG19(input_shape=(250, 250, 3), num_classes=5)\n",
    "model = TransferNetVGG19()"
   ]
  },
  {
   "cell_type": "code",
   "execution_count": 20,
   "id": "42916332",
   "metadata": {},
   "outputs": [],
   "source": [
    "criterion = SparseCategoricalCrossentropy()\n",
    "optimizer = Adam(learning_rate=0.0004)\n",
    "EPOCHS=100"
   ]
  },
  {
   "cell_type": "code",
   "execution_count": 21,
   "id": "836be761",
   "metadata": {},
   "outputs": [],
   "source": [
    "def scheduler(epoch, lr):\n",
    "    if epoch < 10:\n",
    "        return lr\n",
    "    else:\n",
    "        return lr * tf.math.exp(-0.1)\n",
    "lr_schedule = tf.keras.callbacks.LearningRateScheduler(scheduler)\n"
   ]
  },
  {
   "cell_type": "code",
   "execution_count": 22,
   "id": "37163b5e",
   "metadata": {},
   "outputs": [],
   "source": [
    "model.compile(optimizer=optimizer, \n",
    "              loss=SparseCategoricalCrossentropy(), \n",
    "              metrics=['accuracy'])"
   ]
  },
  {
   "cell_type": "code",
   "execution_count": 23,
   "id": "3326a1fa",
   "metadata": {},
   "outputs": [],
   "source": [
    "early_stopping = tf.keras.callbacks.EarlyStopping(monitor='val_loss', patience=15, verbose=0, restore_best_weights=True)\n",
    "checkpoint = tf.keras.callbacks.ModelCheckpoint('checkpoint', monitor='val_loss', verbose=0, save_best_only=True)\n"
   ]
  },
  {
   "cell_type": "code",
   "execution_count": 24,
   "id": "4c367c63",
   "metadata": {},
   "outputs": [
    {
     "data": {
      "text/plain": [
       "106"
      ]
     },
     "execution_count": 24,
     "metadata": {},
     "output_type": "execute_result"
    }
   ],
   "source": [
    "STEP_SIZE_TRAIN=train_data.n//train_data.batch_size\n",
    "STEP_SIZE_VALID=validation_data.n//validation_data.batch_size\n",
    "STEP_SIZE_TEST=test_data.n//test_data.batch_size\n",
    "STEP_SIZE_TRAIN"
   ]
  },
  {
   "cell_type": "code",
   "execution_count": 25,
   "id": "971d6c7a",
   "metadata": {},
   "outputs": [],
   "source": [
    "log_dir = \"logs/fit/\" + datetime.datetime.now().strftime(\"%Y%m%d-%H%M%S\")\n",
    "tensorboard_callback = TensorBoard(log_dir=log_dir, histogram_freq=1)\n",
    "callbacks = [early_stopping, checkpoint,lr_schedule, tensorboard_callback]\n"
   ]
  },
  {
   "cell_type": "code",
   "execution_count": 26,
   "id": "ad247bbc",
   "metadata": {},
   "outputs": [
    {
     "name": "stdout",
     "output_type": "stream",
     "text": [
      "Epoch 1/100\n",
      " 37/107 [=========>....................] - ETA: 22s - loss: 1.4402 - accuracy: 0.3361"
     ]
    },
    {
     "name": "stderr",
     "output_type": "stream",
     "text": [
      "/home/andrea.merov2/.local/lib/python3.8/site-packages/PIL/Image.py:970: UserWarning: Palette images with Transparency expressed in bytes should be converted to RGBA images\n",
      "  warnings.warn(\n"
     ]
    },
    {
     "name": "stdout",
     "output_type": "stream",
     "text": [
      "107/107 [==============================] - ETA: 0s - loss: 1.3992 - accuracy: 0.3253"
     ]
    },
    {
     "name": "stderr",
     "output_type": "stream",
     "text": [
      "WARNING:absl:Found untraced functions such as _jit_compiled_convolution_op, _jit_compiled_convolution_op, _jit_compiled_convolution_op, _jit_compiled_convolution_op, _jit_compiled_convolution_op while saving (showing 5 of 16). These functions will not be directly callable after loading.\n"
     ]
    },
    {
     "name": "stdout",
     "output_type": "stream",
     "text": [
      "INFO:tensorflow:Assets written to: checkpoint/assets\n"
     ]
    },
    {
     "name": "stderr",
     "output_type": "stream",
     "text": [
      "INFO:tensorflow:Assets written to: checkpoint/assets\n"
     ]
    },
    {
     "name": "stdout",
     "output_type": "stream",
     "text": [
      "107/107 [==============================] - 90s 824ms/step - loss: 1.3992 - accuracy: 0.3253 - val_loss: 1.3632 - val_accuracy: 0.3510 - lr: 4.0000e-04\n",
      "Epoch 2/100\n",
      " 15/107 [===>..........................] - ETA: 29s - loss: 1.3812 - accuracy: 0.3713"
     ]
    },
    {
     "name": "stderr",
     "output_type": "stream",
     "text": [
      "/home/andrea.merov2/.local/lib/python3.8/site-packages/PIL/Image.py:970: UserWarning: Palette images with Transparency expressed in bytes should be converted to RGBA images\n",
      "  warnings.warn(\n"
     ]
    },
    {
     "name": "stdout",
     "output_type": "stream",
     "text": [
      "107/107 [==============================] - ETA: 0s - loss: 1.3718 - accuracy: 0.3370"
     ]
    },
    {
     "name": "stderr",
     "output_type": "stream",
     "text": [
      "WARNING:absl:Found untraced functions such as _jit_compiled_convolution_op, _jit_compiled_convolution_op, _jit_compiled_convolution_op, _jit_compiled_convolution_op, _jit_compiled_convolution_op while saving (showing 5 of 16). These functions will not be directly callable after loading.\n"
     ]
    },
    {
     "name": "stdout",
     "output_type": "stream",
     "text": [
      "INFO:tensorflow:Assets written to: checkpoint/assets\n"
     ]
    },
    {
     "name": "stderr",
     "output_type": "stream",
     "text": [
      "INFO:tensorflow:Assets written to: checkpoint/assets\n"
     ]
    },
    {
     "name": "stdout",
     "output_type": "stream",
     "text": [
      "107/107 [==============================] - 60s 559ms/step - loss: 1.3718 - accuracy: 0.3370 - val_loss: 1.3502 - val_accuracy: 0.3558 - lr: 4.0000e-04\n",
      "Epoch 3/100\n",
      "  2/107 [..............................] - ETA: 32s - loss: 1.2952 - accuracy: 0.4375"
     ]
    },
    {
     "name": "stderr",
     "output_type": "stream",
     "text": [
      "/home/andrea.merov2/.local/lib/python3.8/site-packages/PIL/Image.py:970: UserWarning: Palette images with Transparency expressed in bytes should be converted to RGBA images\n",
      "  warnings.warn(\n"
     ]
    },
    {
     "name": "stdout",
     "output_type": "stream",
     "text": [
      "107/107 [==============================] - 48s 447ms/step - loss: 1.3556 - accuracy: 0.3382 - val_loss: 1.3541 - val_accuracy: 0.3510 - lr: 4.0000e-04\n",
      "Epoch 4/100\n",
      "107/107 [==============================] - ETA: 0s - loss: 1.3447 - accuracy: 0.3511"
     ]
    },
    {
     "name": "stderr",
     "output_type": "stream",
     "text": [
      "WARNING:absl:Found untraced functions such as _jit_compiled_convolution_op, _jit_compiled_convolution_op, _jit_compiled_convolution_op, _jit_compiled_convolution_op, _jit_compiled_convolution_op while saving (showing 5 of 16). These functions will not be directly callable after loading.\n"
     ]
    },
    {
     "name": "stdout",
     "output_type": "stream",
     "text": [
      "INFO:tensorflow:Assets written to: checkpoint/assets\n"
     ]
    },
    {
     "name": "stderr",
     "output_type": "stream",
     "text": [
      "INFO:tensorflow:Assets written to: checkpoint/assets\n"
     ]
    },
    {
     "name": "stdout",
     "output_type": "stream",
     "text": [
      "107/107 [==============================] - 62s 578ms/step - loss: 1.3447 - accuracy: 0.3511 - val_loss: 1.3381 - val_accuracy: 0.3510 - lr: 4.0000e-04\n",
      "Epoch 5/100\n",
      " 37/107 [=========>....................] - ETA: 21s - loss: 1.3392 - accuracy: 0.3277"
     ]
    },
    {
     "name": "stderr",
     "output_type": "stream",
     "text": [
      "/home/andrea.merov2/.local/lib/python3.8/site-packages/PIL/Image.py:970: UserWarning: Palette images with Transparency expressed in bytes should be converted to RGBA images\n",
      "  warnings.warn(\n"
     ]
    },
    {
     "name": "stdout",
     "output_type": "stream",
     "text": [
      "107/107 [==============================] - ETA: 0s - loss: 1.3253 - accuracy: 0.3540"
     ]
    },
    {
     "name": "stderr",
     "output_type": "stream",
     "text": [
      "WARNING:absl:Found untraced functions such as _jit_compiled_convolution_op, _jit_compiled_convolution_op, _jit_compiled_convolution_op, _jit_compiled_convolution_op, _jit_compiled_convolution_op while saving (showing 5 of 16). These functions will not be directly callable after loading.\n"
     ]
    },
    {
     "name": "stdout",
     "output_type": "stream",
     "text": [
      "INFO:tensorflow:Assets written to: checkpoint/assets\n"
     ]
    },
    {
     "name": "stderr",
     "output_type": "stream",
     "text": [
      "INFO:tensorflow:Assets written to: checkpoint/assets\n"
     ]
    },
    {
     "name": "stdout",
     "output_type": "stream",
     "text": [
      "107/107 [==============================] - 59s 555ms/step - loss: 1.3253 - accuracy: 0.3540 - val_loss: 1.2994 - val_accuracy: 0.3558 - lr: 4.0000e-04\n",
      "Epoch 6/100\n",
      "  9/107 [=>............................] - ETA: 30s - loss: 1.3219 - accuracy: 0.3611"
     ]
    },
    {
     "name": "stderr",
     "output_type": "stream",
     "text": [
      "/home/andrea.merov2/.local/lib/python3.8/site-packages/PIL/Image.py:970: UserWarning: Palette images with Transparency expressed in bytes should be converted to RGBA images\n",
      "  warnings.warn(\n"
     ]
    },
    {
     "name": "stdout",
     "output_type": "stream",
     "text": [
      "107/107 [==============================] - ETA: 0s - loss: 1.2933 - accuracy: 0.3932"
     ]
    },
    {
     "name": "stderr",
     "output_type": "stream",
     "text": [
      "WARNING:absl:Found untraced functions such as _jit_compiled_convolution_op, _jit_compiled_convolution_op, _jit_compiled_convolution_op, _jit_compiled_convolution_op, _jit_compiled_convolution_op while saving (showing 5 of 16). These functions will not be directly callable after loading.\n"
     ]
    },
    {
     "name": "stdout",
     "output_type": "stream",
     "text": [
      "INFO:tensorflow:Assets written to: checkpoint/assets\n"
     ]
    },
    {
     "name": "stderr",
     "output_type": "stream",
     "text": [
      "INFO:tensorflow:Assets written to: checkpoint/assets\n"
     ]
    },
    {
     "name": "stdout",
     "output_type": "stream",
     "text": [
      "107/107 [==============================] - 59s 556ms/step - loss: 1.2933 - accuracy: 0.3932 - val_loss: 1.2736 - val_accuracy: 0.3846 - lr: 4.0000e-04\n",
      "Epoch 7/100\n",
      " 28/107 [======>.......................] - ETA: 24s - loss: 1.2801 - accuracy: 0.3884"
     ]
    },
    {
     "name": "stderr",
     "output_type": "stream",
     "text": [
      "/home/andrea.merov2/.local/lib/python3.8/site-packages/PIL/Image.py:970: UserWarning: Palette images with Transparency expressed in bytes should be converted to RGBA images\n",
      "  warnings.warn(\n"
     ]
    },
    {
     "name": "stdout",
     "output_type": "stream",
     "text": [
      "107/107 [==============================] - 48s 453ms/step - loss: 1.2708 - accuracy: 0.4178 - val_loss: 1.4167 - val_accuracy: 0.2740 - lr: 4.0000e-04\n",
      "Epoch 8/100\n",
      "107/107 [==============================] - ETA: 0s - loss: 1.2075 - accuracy: 0.4564"
     ]
    },
    {
     "name": "stderr",
     "output_type": "stream",
     "text": [
      "WARNING:absl:Found untraced functions such as _jit_compiled_convolution_op, _jit_compiled_convolution_op, _jit_compiled_convolution_op, _jit_compiled_convolution_op, _jit_compiled_convolution_op while saving (showing 5 of 16). These functions will not be directly callable after loading.\n"
     ]
    },
    {
     "name": "stdout",
     "output_type": "stream",
     "text": [
      "INFO:tensorflow:Assets written to: checkpoint/assets\n"
     ]
    },
    {
     "name": "stderr",
     "output_type": "stream",
     "text": [
      "INFO:tensorflow:Assets written to: checkpoint/assets\n"
     ]
    },
    {
     "name": "stdout",
     "output_type": "stream",
     "text": [
      "107/107 [==============================] - 61s 568ms/step - loss: 1.2075 - accuracy: 0.4564 - val_loss: 1.2179 - val_accuracy: 0.4760 - lr: 4.0000e-04\n",
      "Epoch 9/100\n",
      " 18/107 [====>.........................] - ETA: 28s - loss: 1.1527 - accuracy: 0.5069"
     ]
    },
    {
     "name": "stderr",
     "output_type": "stream",
     "text": [
      "/home/andrea.merov2/.local/lib/python3.8/site-packages/PIL/Image.py:970: UserWarning: Palette images with Transparency expressed in bytes should be converted to RGBA images\n",
      "  warnings.warn(\n"
     ]
    },
    {
     "name": "stdout",
     "output_type": "stream",
     "text": [
      "107/107 [==============================] - ETA: 0s - loss: 1.0954 - accuracy: 0.5407"
     ]
    },
    {
     "name": "stderr",
     "output_type": "stream",
     "text": [
      "WARNING:absl:Found untraced functions such as _jit_compiled_convolution_op, _jit_compiled_convolution_op, _jit_compiled_convolution_op, _jit_compiled_convolution_op, _jit_compiled_convolution_op while saving (showing 5 of 16). These functions will not be directly callable after loading.\n"
     ]
    },
    {
     "name": "stdout",
     "output_type": "stream",
     "text": [
      "INFO:tensorflow:Assets written to: checkpoint/assets\n"
     ]
    },
    {
     "name": "stderr",
     "output_type": "stream",
     "text": [
      "INFO:tensorflow:Assets written to: checkpoint/assets\n"
     ]
    },
    {
     "name": "stdout",
     "output_type": "stream",
     "text": [
      "107/107 [==============================] - 62s 578ms/step - loss: 1.0954 - accuracy: 0.5407 - val_loss: 1.0485 - val_accuracy: 0.5529 - lr: 4.0000e-04\n",
      "Epoch 10/100\n",
      " 21/107 [====>.........................] - ETA: 28s - loss: 1.1091 - accuracy: 0.5195"
     ]
    },
    {
     "name": "stderr",
     "output_type": "stream",
     "text": [
      "/home/andrea.merov2/.local/lib/python3.8/site-packages/PIL/Image.py:970: UserWarning: Palette images with Transparency expressed in bytes should be converted to RGBA images\n",
      "  warnings.warn(\n"
     ]
    },
    {
     "name": "stdout",
     "output_type": "stream",
     "text": [
      "107/107 [==============================] - ETA: 0s - loss: 1.0617 - accuracy: 0.5606"
     ]
    },
    {
     "name": "stderr",
     "output_type": "stream",
     "text": [
      "WARNING:absl:Found untraced functions such as _jit_compiled_convolution_op, _jit_compiled_convolution_op, _jit_compiled_convolution_op, _jit_compiled_convolution_op, _jit_compiled_convolution_op while saving (showing 5 of 16). These functions will not be directly callable after loading.\n"
     ]
    },
    {
     "name": "stdout",
     "output_type": "stream",
     "text": [
      "INFO:tensorflow:Assets written to: checkpoint/assets\n"
     ]
    },
    {
     "name": "stderr",
     "output_type": "stream",
     "text": [
      "INFO:tensorflow:Assets written to: checkpoint/assets\n"
     ]
    },
    {
     "name": "stdout",
     "output_type": "stream",
     "text": [
      "107/107 [==============================] - 63s 589ms/step - loss: 1.0617 - accuracy: 0.5606 - val_loss: 0.9811 - val_accuracy: 0.5817 - lr: 4.0000e-04\n",
      "Epoch 11/100\n",
      " 27/107 [======>.......................] - ETA: 25s - loss: 1.0650 - accuracy: 0.5245"
     ]
    },
    {
     "name": "stderr",
     "output_type": "stream",
     "text": [
      "/home/andrea.merov2/.local/lib/python3.8/site-packages/PIL/Image.py:970: UserWarning: Palette images with Transparency expressed in bytes should be converted to RGBA images\n",
      "  warnings.warn(\n"
     ]
    },
    {
     "name": "stdout",
     "output_type": "stream",
     "text": [
      "107/107 [==============================] - ETA: 0s - loss: 1.0242 - accuracy: 0.5553"
     ]
    },
    {
     "name": "stderr",
     "output_type": "stream",
     "text": [
      "WARNING:absl:Found untraced functions such as _jit_compiled_convolution_op, _jit_compiled_convolution_op, _jit_compiled_convolution_op, _jit_compiled_convolution_op, _jit_compiled_convolution_op while saving (showing 5 of 16). These functions will not be directly callable after loading.\n"
     ]
    },
    {
     "name": "stdout",
     "output_type": "stream",
     "text": [
      "INFO:tensorflow:Assets written to: checkpoint/assets\n"
     ]
    },
    {
     "name": "stderr",
     "output_type": "stream",
     "text": [
      "INFO:tensorflow:Assets written to: checkpoint/assets\n"
     ]
    },
    {
     "name": "stdout",
     "output_type": "stream",
     "text": [
      "107/107 [==============================] - 59s 548ms/step - loss: 1.0242 - accuracy: 0.5553 - val_loss: 0.9769 - val_accuracy: 0.6010 - lr: 3.6193e-04\n",
      "Epoch 12/100\n",
      "  3/107 [..............................] - ETA: 32s - loss: 0.9629 - accuracy: 0.5625"
     ]
    },
    {
     "name": "stderr",
     "output_type": "stream",
     "text": [
      "/home/andrea.merov2/.local/lib/python3.8/site-packages/PIL/Image.py:970: UserWarning: Palette images with Transparency expressed in bytes should be converted to RGBA images\n",
      "  warnings.warn(\n"
     ]
    },
    {
     "name": "stdout",
     "output_type": "stream",
     "text": [
      "107/107 [==============================] - 48s 445ms/step - loss: 0.9956 - accuracy: 0.5816 - val_loss: 0.9989 - val_accuracy: 0.5481 - lr: 3.2749e-04\n",
      "Epoch 13/100\n",
      "107/107 [==============================] - 48s 448ms/step - loss: 0.9572 - accuracy: 0.5875 - val_loss: 1.0496 - val_accuracy: 0.5481 - lr: 2.9633e-04\n",
      "Epoch 14/100\n",
      "107/107 [==============================] - ETA: 0s - loss: 0.9589 - accuracy: 0.6009"
     ]
    },
    {
     "name": "stderr",
     "output_type": "stream",
     "text": [
      "WARNING:absl:Found untraced functions such as _jit_compiled_convolution_op, _jit_compiled_convolution_op, _jit_compiled_convolution_op, _jit_compiled_convolution_op, _jit_compiled_convolution_op while saving (showing 5 of 16). These functions will not be directly callable after loading.\n"
     ]
    },
    {
     "name": "stdout",
     "output_type": "stream",
     "text": [
      "INFO:tensorflow:Assets written to: checkpoint/assets\n"
     ]
    },
    {
     "name": "stderr",
     "output_type": "stream",
     "text": [
      "INFO:tensorflow:Assets written to: checkpoint/assets\n"
     ]
    },
    {
     "name": "stdout",
     "output_type": "stream",
     "text": [
      "107/107 [==============================] - 58s 545ms/step - loss: 0.9589 - accuracy: 0.6009 - val_loss: 0.9015 - val_accuracy: 0.6154 - lr: 2.6813e-04\n",
      "Epoch 15/100\n",
      " 22/107 [=====>........................] - ETA: 26s - loss: 0.9699 - accuracy: 0.5559"
     ]
    },
    {
     "name": "stderr",
     "output_type": "stream",
     "text": [
      "/home/andrea.merov2/.local/lib/python3.8/site-packages/PIL/Image.py:970: UserWarning: Palette images with Transparency expressed in bytes should be converted to RGBA images\n",
      "  warnings.warn(\n"
     ]
    },
    {
     "name": "stdout",
     "output_type": "stream",
     "text": [
      "107/107 [==============================] - ETA: 0s - loss: 0.9338 - accuracy: 0.5998"
     ]
    },
    {
     "name": "stderr",
     "output_type": "stream",
     "text": [
      "WARNING:absl:Found untraced functions such as _jit_compiled_convolution_op, _jit_compiled_convolution_op, _jit_compiled_convolution_op, _jit_compiled_convolution_op, _jit_compiled_convolution_op while saving (showing 5 of 16). These functions will not be directly callable after loading.\n"
     ]
    },
    {
     "name": "stdout",
     "output_type": "stream",
     "text": [
      "INFO:tensorflow:Assets written to: checkpoint/assets\n"
     ]
    },
    {
     "name": "stderr",
     "output_type": "stream",
     "text": [
      "INFO:tensorflow:Assets written to: checkpoint/assets\n"
     ]
    },
    {
     "name": "stdout",
     "output_type": "stream",
     "text": [
      "107/107 [==============================] - 58s 546ms/step - loss: 0.9338 - accuracy: 0.5998 - val_loss: 0.8752 - val_accuracy: 0.6250 - lr: 2.4261e-04\n",
      "Epoch 16/100\n",
      "  9/107 [=>............................] - ETA: 29s - loss: 0.9201 - accuracy: 0.6312"
     ]
    },
    {
     "name": "stderr",
     "output_type": "stream",
     "text": [
      "/home/andrea.merov2/.local/lib/python3.8/site-packages/PIL/Image.py:970: UserWarning: Palette images with Transparency expressed in bytes should be converted to RGBA images\n",
      "  warnings.warn(\n"
     ]
    },
    {
     "name": "stdout",
     "output_type": "stream",
     "text": [
      "107/107 [==============================] - 47s 443ms/step - loss: 0.9063 - accuracy: 0.6150 - val_loss: 0.9410 - val_accuracy: 0.5913 - lr: 2.1952e-04\n",
      "Epoch 17/100\n",
      "107/107 [==============================] - 47s 442ms/step - loss: 0.9054 - accuracy: 0.6238 - val_loss: 0.9510 - val_accuracy: 0.5913 - lr: 1.9863e-04\n",
      "Epoch 18/100\n",
      "107/107 [==============================] - 47s 441ms/step - loss: 0.9071 - accuracy: 0.6074 - val_loss: 0.8988 - val_accuracy: 0.6250 - lr: 1.7973e-04\n",
      "Epoch 19/100\n",
      "107/107 [==============================] - 48s 447ms/step - loss: 0.9039 - accuracy: 0.6138 - val_loss: 0.9213 - val_accuracy: 0.6058 - lr: 1.6263e-04\n",
      "Epoch 20/100\n",
      "107/107 [==============================] - ETA: 0s - loss: 0.8722 - accuracy: 0.6144"
     ]
    },
    {
     "name": "stderr",
     "output_type": "stream",
     "text": [
      "WARNING:absl:Found untraced functions such as _jit_compiled_convolution_op, _jit_compiled_convolution_op, _jit_compiled_convolution_op, _jit_compiled_convolution_op, _jit_compiled_convolution_op while saving (showing 5 of 16). These functions will not be directly callable after loading.\n"
     ]
    },
    {
     "name": "stdout",
     "output_type": "stream",
     "text": [
      "INFO:tensorflow:Assets written to: checkpoint/assets\n"
     ]
    },
    {
     "name": "stderr",
     "output_type": "stream",
     "text": [
      "INFO:tensorflow:Assets written to: checkpoint/assets\n"
     ]
    },
    {
     "name": "stdout",
     "output_type": "stream",
     "text": [
      "107/107 [==============================] - 60s 567ms/step - loss: 0.8722 - accuracy: 0.6144 - val_loss: 0.8490 - val_accuracy: 0.5962 - lr: 1.4715e-04\n",
      "Epoch 21/100\n",
      " 40/107 [==========>...................] - ETA: 20s - loss: 0.8613 - accuracy: 0.6406"
     ]
    },
    {
     "name": "stderr",
     "output_type": "stream",
     "text": [
      "/home/andrea.merov2/.local/lib/python3.8/site-packages/PIL/Image.py:970: UserWarning: Palette images with Transparency expressed in bytes should be converted to RGBA images\n",
      "  warnings.warn(\n"
     ]
    },
    {
     "name": "stdout",
     "output_type": "stream",
     "text": [
      "107/107 [==============================] - 47s 442ms/step - loss: 0.8620 - accuracy: 0.6349 - val_loss: 0.8507 - val_accuracy: 0.6202 - lr: 1.3315e-04\n",
      "Epoch 22/100\n",
      "107/107 [==============================] - 47s 440ms/step - loss: 0.8589 - accuracy: 0.6390 - val_loss: 0.8543 - val_accuracy: 0.6250 - lr: 1.2048e-04\n",
      "Epoch 23/100\n",
      "107/107 [==============================] - 48s 446ms/step - loss: 0.8605 - accuracy: 0.6156 - val_loss: 0.8700 - val_accuracy: 0.5865 - lr: 1.0901e-04\n",
      "Epoch 24/100\n",
      "107/107 [==============================] - 48s 445ms/step - loss: 0.8573 - accuracy: 0.6343 - val_loss: 0.8662 - val_accuracy: 0.6298 - lr: 9.8639e-05\n",
      "Epoch 25/100\n",
      "107/107 [==============================] - 47s 442ms/step - loss: 0.8328 - accuracy: 0.6407 - val_loss: 0.9032 - val_accuracy: 0.6010 - lr: 8.9252e-05\n",
      "Epoch 26/100\n",
      "107/107 [==============================] - 48s 445ms/step - loss: 0.8490 - accuracy: 0.6378 - val_loss: 0.8616 - val_accuracy: 0.6298 - lr: 8.0759e-05\n",
      "Epoch 27/100\n",
      "107/107 [==============================] - ETA: 0s - loss: 0.8255 - accuracy: 0.6419"
     ]
    },
    {
     "name": "stderr",
     "output_type": "stream",
     "text": [
      "WARNING:absl:Found untraced functions such as _jit_compiled_convolution_op, _jit_compiled_convolution_op, _jit_compiled_convolution_op, _jit_compiled_convolution_op, _jit_compiled_convolution_op while saving (showing 5 of 16). These functions will not be directly callable after loading.\n"
     ]
    },
    {
     "name": "stdout",
     "output_type": "stream",
     "text": [
      "INFO:tensorflow:Assets written to: checkpoint/assets\n"
     ]
    },
    {
     "name": "stderr",
     "output_type": "stream",
     "text": [
      "INFO:tensorflow:Assets written to: checkpoint/assets\n"
     ]
    },
    {
     "name": "stdout",
     "output_type": "stream",
     "text": [
      "107/107 [==============================] - 57s 539ms/step - loss: 0.8255 - accuracy: 0.6419 - val_loss: 0.8469 - val_accuracy: 0.6202 - lr: 7.3073e-05\n",
      "Epoch 28/100\n",
      "  1/107 [..............................] - ETA: 47s - loss: 1.0907 - accuracy: 0.6250"
     ]
    },
    {
     "name": "stderr",
     "output_type": "stream",
     "text": [
      "/home/andrea.merov2/.local/lib/python3.8/site-packages/PIL/Image.py:970: UserWarning: Palette images with Transparency expressed in bytes should be converted to RGBA images\n",
      "  warnings.warn(\n"
     ]
    },
    {
     "name": "stdout",
     "output_type": "stream",
     "text": [
      "107/107 [==============================] - ETA: 0s - loss: 0.8327 - accuracy: 0.6331"
     ]
    },
    {
     "name": "stderr",
     "output_type": "stream",
     "text": [
      "WARNING:absl:Found untraced functions such as _jit_compiled_convolution_op, _jit_compiled_convolution_op, _jit_compiled_convolution_op, _jit_compiled_convolution_op, _jit_compiled_convolution_op while saving (showing 5 of 16). These functions will not be directly callable after loading.\n"
     ]
    },
    {
     "name": "stdout",
     "output_type": "stream",
     "text": [
      "INFO:tensorflow:Assets written to: checkpoint/assets\n"
     ]
    },
    {
     "name": "stderr",
     "output_type": "stream",
     "text": [
      "INFO:tensorflow:Assets written to: checkpoint/assets\n"
     ]
    },
    {
     "name": "stdout",
     "output_type": "stream",
     "text": [
      "107/107 [==============================] - 59s 553ms/step - loss: 0.8327 - accuracy: 0.6331 - val_loss: 0.8011 - val_accuracy: 0.6442 - lr: 6.6119e-05\n",
      "Epoch 29/100\n",
      " 62/107 [================>.............] - ETA: 14s - loss: 0.8375 - accuracy: 0.6280"
     ]
    },
    {
     "name": "stderr",
     "output_type": "stream",
     "text": [
      "/home/andrea.merov2/.local/lib/python3.8/site-packages/PIL/Image.py:970: UserWarning: Palette images with Transparency expressed in bytes should be converted to RGBA images\n",
      "  warnings.warn(\n"
     ]
    },
    {
     "name": "stdout",
     "output_type": "stream",
     "text": [
      "107/107 [==============================] - 47s 444ms/step - loss: 0.8273 - accuracy: 0.6437 - val_loss: 0.8563 - val_accuracy: 0.6250 - lr: 5.9827e-05\n",
      "Epoch 30/100\n",
      "107/107 [==============================] - 47s 442ms/step - loss: 0.8410 - accuracy: 0.6396 - val_loss: 0.8091 - val_accuracy: 0.6298 - lr: 5.4134e-05\n",
      "Epoch 31/100\n",
      "107/107 [==============================] - ETA: 0s - loss: 0.8330 - accuracy: 0.6460"
     ]
    },
    {
     "name": "stderr",
     "output_type": "stream",
     "text": [
      "WARNING:absl:Found untraced functions such as _jit_compiled_convolution_op, _jit_compiled_convolution_op, _jit_compiled_convolution_op, _jit_compiled_convolution_op, _jit_compiled_convolution_op while saving (showing 5 of 16). These functions will not be directly callable after loading.\n"
     ]
    },
    {
     "name": "stdout",
     "output_type": "stream",
     "text": [
      "INFO:tensorflow:Assets written to: checkpoint/assets\n"
     ]
    },
    {
     "name": "stderr",
     "output_type": "stream",
     "text": [
      "INFO:tensorflow:Assets written to: checkpoint/assets\n"
     ]
    },
    {
     "name": "stdout",
     "output_type": "stream",
     "text": [
      "107/107 [==============================] - 59s 549ms/step - loss: 0.8330 - accuracy: 0.6460 - val_loss: 0.7938 - val_accuracy: 0.6490 - lr: 4.8983e-05\n",
      "Epoch 32/100\n",
      " 21/107 [====>.........................] - ETA: 26s - loss: 0.8470 - accuracy: 0.6458"
     ]
    },
    {
     "name": "stderr",
     "output_type": "stream",
     "text": [
      "/home/andrea.merov2/.local/lib/python3.8/site-packages/PIL/Image.py:970: UserWarning: Palette images with Transparency expressed in bytes should be converted to RGBA images\n",
      "  warnings.warn(\n"
     ]
    },
    {
     "name": "stdout",
     "output_type": "stream",
     "text": [
      "107/107 [==============================] - 48s 446ms/step - loss: 0.8200 - accuracy: 0.6489 - val_loss: 0.8524 - val_accuracy: 0.6250 - lr: 4.4321e-05\n",
      "Epoch 33/100\n",
      "107/107 [==============================] - 47s 438ms/step - loss: 0.8278 - accuracy: 0.6507 - val_loss: 0.8348 - val_accuracy: 0.6202 - lr: 4.0103e-05\n",
      "Epoch 34/100\n",
      "107/107 [==============================] - 48s 449ms/step - loss: 0.8007 - accuracy: 0.6577 - val_loss: 0.8005 - val_accuracy: 0.6250 - lr: 3.6287e-05\n",
      "Epoch 35/100\n",
      "107/107 [==============================] - 48s 448ms/step - loss: 0.8054 - accuracy: 0.6571 - val_loss: 0.8201 - val_accuracy: 0.6442 - lr: 3.2834e-05\n",
      "Epoch 36/100\n",
      "107/107 [==============================] - 47s 445ms/step - loss: 0.8030 - accuracy: 0.6530 - val_loss: 0.8341 - val_accuracy: 0.6202 - lr: 2.9709e-05\n",
      "Epoch 37/100\n",
      "107/107 [==============================] - 48s 445ms/step - loss: 0.7988 - accuracy: 0.6501 - val_loss: 0.8038 - val_accuracy: 0.6538 - lr: 2.6882e-05\n",
      "Epoch 38/100\n",
      "107/107 [==============================] - ETA: 0s - loss: 0.8167 - accuracy: 0.6472"
     ]
    },
    {
     "name": "stderr",
     "output_type": "stream",
     "text": [
      "WARNING:absl:Found untraced functions such as _jit_compiled_convolution_op, _jit_compiled_convolution_op, _jit_compiled_convolution_op, _jit_compiled_convolution_op, _jit_compiled_convolution_op while saving (showing 5 of 16). These functions will not be directly callable after loading.\n"
     ]
    },
    {
     "name": "stdout",
     "output_type": "stream",
     "text": [
      "INFO:tensorflow:Assets written to: checkpoint/assets\n"
     ]
    },
    {
     "name": "stderr",
     "output_type": "stream",
     "text": [
      "INFO:tensorflow:Assets written to: checkpoint/assets\n"
     ]
    },
    {
     "name": "stdout",
     "output_type": "stream",
     "text": [
      "107/107 [==============================] - 58s 539ms/step - loss: 0.8167 - accuracy: 0.6472 - val_loss: 0.7652 - val_accuracy: 0.6635 - lr: 2.4324e-05\n",
      "Epoch 39/100\n",
      " 44/107 [===========>..................] - ETA: 19s - loss: 0.8254 - accuracy: 0.6520"
     ]
    },
    {
     "name": "stderr",
     "output_type": "stream",
     "text": [
      "/home/andrea.merov2/.local/lib/python3.8/site-packages/PIL/Image.py:970: UserWarning: Palette images with Transparency expressed in bytes should be converted to RGBA images\n",
      "  warnings.warn(\n"
     ]
    },
    {
     "name": "stdout",
     "output_type": "stream",
     "text": [
      "107/107 [==============================] - 47s 444ms/step - loss: 0.8342 - accuracy: 0.6489 - val_loss: 0.7881 - val_accuracy: 0.6587 - lr: 2.2009e-05\n",
      "Epoch 40/100\n",
      "107/107 [==============================] - 47s 440ms/step - loss: 0.8166 - accuracy: 0.6507 - val_loss: 0.8329 - val_accuracy: 0.6298 - lr: 1.9915e-05\n",
      "Epoch 41/100\n",
      "107/107 [==============================] - 48s 446ms/step - loss: 0.7969 - accuracy: 0.6647 - val_loss: 0.8816 - val_accuracy: 0.6154 - lr: 1.8020e-05\n",
      "Epoch 42/100\n",
      "107/107 [==============================] - 48s 445ms/step - loss: 0.8265 - accuracy: 0.6401 - val_loss: 0.7720 - val_accuracy: 0.6490 - lr: 1.6305e-05\n",
      "Epoch 43/100\n",
      "107/107 [==============================] - 47s 444ms/step - loss: 0.8016 - accuracy: 0.6577 - val_loss: 0.8394 - val_accuracy: 0.6346 - lr: 1.4753e-05\n",
      "Epoch 44/100\n",
      "107/107 [==============================] - 48s 446ms/step - loss: 0.8092 - accuracy: 0.6507 - val_loss: 0.7809 - val_accuracy: 0.6683 - lr: 1.3349e-05\n",
      "Epoch 45/100\n",
      "107/107 [==============================] - 48s 444ms/step - loss: 0.7938 - accuracy: 0.6571 - val_loss: 0.8159 - val_accuracy: 0.6442 - lr: 1.2079e-05\n",
      "Epoch 46/100\n",
      "107/107 [==============================] - 47s 439ms/step - loss: 0.8133 - accuracy: 0.6542 - val_loss: 0.7862 - val_accuracy: 0.6346 - lr: 1.0929e-05\n",
      "Epoch 47/100\n",
      "107/107 [==============================] - 47s 441ms/step - loss: 0.7867 - accuracy: 0.6559 - val_loss: 0.8026 - val_accuracy: 0.6538 - lr: 9.8894e-06\n",
      "Epoch 48/100\n",
      "107/107 [==============================] - 48s 450ms/step - loss: 0.8004 - accuracy: 0.6583 - val_loss: 0.8123 - val_accuracy: 0.6442 - lr: 8.9483e-06\n",
      "Epoch 49/100\n",
      "107/107 [==============================] - 47s 443ms/step - loss: 0.8068 - accuracy: 0.6559 - val_loss: 0.8044 - val_accuracy: 0.6587 - lr: 8.0967e-06\n",
      "Epoch 50/100\n",
      "107/107 [==============================] - 47s 441ms/step - loss: 0.8031 - accuracy: 0.6530 - val_loss: 0.7812 - val_accuracy: 0.6490 - lr: 7.3262e-06\n",
      "Epoch 51/100\n",
      "107/107 [==============================] - 48s 446ms/step - loss: 0.8087 - accuracy: 0.6559 - val_loss: 0.8843 - val_accuracy: 0.6106 - lr: 6.6291e-06\n",
      "Epoch 52/100\n",
      "107/107 [==============================] - 49s 462ms/step - loss: 0.8044 - accuracy: 0.6653 - val_loss: 0.8192 - val_accuracy: 0.6250 - lr: 5.9982e-06\n",
      "Epoch 53/100\n",
      "107/107 [==============================] - 48s 445ms/step - loss: 0.8012 - accuracy: 0.6524 - val_loss: 0.8376 - val_accuracy: 0.6298 - lr: 5.4274e-06\n"
     ]
    }
   ],
   "source": [
    "history =model.fit(train_data,\n",
    "    validation_data=validation_data,\n",
    "     validation_steps=STEP_SIZE_VALID,\n",
    "    epochs=EPOCHS,\n",
    "    callbacks=callbacks\n",
    ")"
   ]
  },
  {
   "cell_type": "code",
   "execution_count": 27,
   "id": "13309b7a",
   "metadata": {},
   "outputs": [
    {
     "data": {
      "image/png": "[encoded data removed]",
      "text/plain": [
       "<Figure size 432x288 with 1 Axes>"
      ]
     },
     "metadata": {
      "needs_background": "light"
     },
     "output_type": "display_data"
    },
    {
     "data": {
      "image/png": "[encoded data removed]",
      "text/plain": [
       "<Figure size 432x288 with 1 Axes>"
      ]
     },
     "metadata": {
      "needs_background": "light"
     },
     "output_type": "display_data"
    }
   ],
   "source": [
    "loss_train = history.history['loss']\n",
    "loss_val = history.history['val_loss']\n",
    "epochs_loss_train = range(1,len(loss_train)+1)\n",
    "epochs_loss_val = range(1,len(loss_val)+1)\n",
    "plt.plot(epochs_loss_train, loss_train, 'g', label='Training loss')\n",
    "plt.plot(epochs_loss_val, loss_val, 'b', label='validation loss')\n",
    "plt.title('Training and Validation loss')\n",
    "plt.xlabel('Epochs')\n",
    "plt.ylabel('Loss')\n",
    "plt.legend()\n",
    "plt.show()\n",
    "    \n",
    "loss_train = history.history['accuracy']\n",
    "loss_val = history.history['val_accuracy']\n",
    "epochs_loss_train = range(1,len(loss_train)+1)\n",
    "epochs_loss_val = range(1,len(loss_val)+1)\n",
    "plt.plot(epochs_loss_train, loss_train, 'g', label='Training accuracy')\n",
    "plt.plot(epochs_loss_val, loss_val, 'b', label='validation accuracy')\n",
    "plt.title('Training and Validation accuracy')\n",
    "plt.xlabel('Epochs')\n",
    "plt.ylabel('Accuracy')\n",
    "plt.legend()\n",
    "plt.show()"
   ]
  },
  {
   "cell_type": "code",
   "execution_count": 31,
   "id": "c56cb544",
   "metadata": {},
   "outputs": [
    {
     "data": {
      "text/plain": [
       "53"
      ]
     },
     "execution_count": 31,
     "metadata": {},
     "output_type": "execute_result"
    }
   ],
   "source": [
    "len(loss_val)"
   ]
  },
  {
   "cell_type": "code",
   "execution_count": 28,
   "id": "5ed5ae46",
   "metadata": {},
   "outputs": [
    {
     "name": "stdout",
     "output_type": "stream",
     "text": [
      "Model: \"transfer_net_vgg19\"\n",
      "_________________________________________________________________\n",
      " Layer (type)                Output Shape              Param #   \n",
      "=================================================================\n",
      " vgg19 (Functional)          (None, 7, 7, 512)         20024384  \n",
      "                                                                 \n",
      " flatten (Flatten)           multiple                  0         \n",
      "                                                                 \n",
      " dense (Dense)               multiple                  102764544 \n",
      "                                                                 \n",
      " dense_1 (Dense)             multiple                  16781312  \n",
      "                                                                 \n",
      " dense_2 (Dense)             multiple                  4195328   \n",
      "                                                                 \n",
      " dropout (Dropout)           multiple                  0         \n",
      "                                                                 \n",
      " dense_3 (Dense)             multiple                  32800     \n",
      "                                                                 \n",
      " dropout_1 (Dropout)         multiple                  0         \n",
      "                                                                 \n",
      " dense_4 (Dense)             multiple                  165       \n",
      "                                                                 \n",
      "=================================================================\n",
      "Total params: 143,798,533\n",
      "Trainable params: 123,774,149\n",
      "Non-trainable params: 20,024,384\n",
      "_________________________________________________________________\n"
     ]
    }
   ],
   "source": [
    "model.summary()"
   ]
  },
  {
   "cell_type": "code",
   "execution_count": 29,
   "id": "c134f747",
   "metadata": {},
   "outputs": [],
   "source": [
    "model.save_weights('yoga_vgg19v50.h5')"
   ]
  },
  {
   "cell_type": "code",
   "execution_count": 30,
   "id": "2d859860",
   "metadata": {},
   "outputs": [
    {
     "name": "stdout",
     "output_type": "stream",
     "text": [
      "14/14 [==============================] - 5s 335ms/step\n"
     ]
    },
    {
     "data": {
      "image/png": "[encoded data removed]",
      "text/plain": [
       "<Figure size 720x576 with 2 Axes>"
      ]
     },
     "metadata": {
      "needs_background": "light"
     },
     "output_type": "display_data"
    }
   ],
   "source": [
    "# Obtener las predicciones del modelo\n",
    "predictions = model.predict(test_data)\n",
    "predicted_classes = np.argmax(predictions, axis=1)\n",
    "\n",
    "# Obtener las etiquetas verdaderas\n",
    "true_classes = test_data.classes\n",
    "class_labels = list(test_data.class_indices.keys())\n",
    "\n",
    "# Calcular la matriz de confusión\n",
    "confusion = confusion_matrix(true_classes, predicted_classes)\n",
    "\n",
    "# Visualizar la matriz de confusión\n",
    "plt.figure(figsize=(10, 8))\n",
    "sns.heatmap(confusion, annot=True, cmap='Blues', fmt='g', xticklabels=class_labels, yticklabels=class_labels)\n",
    "plt.xlabel('Predicted labels')\n",
    "plt.ylabel('True labels')\n",
    "plt.title('Confusion Matrix')\n",
    "plt.show()"
   ]
  },
  {
   "cell_type": "code",
   "execution_count": 33,
   "id": "a5ac631b",
   "metadata": {},
   "outputs": [],
   "source": [
    "from keras_tuner import HyperModel\n",
    "\n",
    "class TransferNetTuner(HyperModel):\n",
    "    def __init__(self, base_model_weights=None):\n",
    "        self.base_model_weights = base_model_weights\n"
   ]
  },
  {
   "cell_type": "code",
   "execution_count": 37,
   "id": "4c9e2022",
   "metadata": {},
   "outputs": [],
   "source": [
    "def build_model(hp):\n",
    "        model = TransferNet(base_model_weights='imagenet')\n",
    "        \n",
    "       # Hiperparámetro para el learning rate\n",
    "        lr = hp.Float('learning_rate', min_value=1e-4, max_value=1e-2, sampling='LOG', default=1e-3)\n",
    "\n",
    "        # Hiperparámetro para el optimizador\n",
    "        optimizer = hp.Choice('optimizer', ['adam', 'sgd', 'rmsprop'])\n",
    "\n",
    "        # Compilación del modelo\n",
    "        if optimizer == 'adam':\n",
    "                opt = tf.keras.optimizers.legacy.Adam(learning_rate=lr)\n",
    "        elif optimizer == 'sgd':\n",
    "                opt = tf.keras.optimizers.SGD(learning_rate=lr)\n",
    "        elif optimizer == 'rmsprop':\n",
    "                opt = tf.keras.optimizers.RMSprop(learning_rate=lr)\n",
    "\n",
    "        model.compile(optimizer=opt, loss='sparse_categorical_crossentropy', metrics=['accuracy'])\n",
    "        return model"
   ]
  },
  {
   "cell_type": "code",
   "execution_count": 38,
   "id": "dee90a58",
   "metadata": {},
   "outputs": [
    {
     "ename": "NameError",
     "evalue": "name 'TransferNet' is not defined",
     "output_type": "error",
     "traceback": [
      "\u001b[0;31m---------------------------------------------------------------------------\u001b[0m",
      "\u001b[0;31mNameError\u001b[0m                                 Traceback (most recent call last)",
      "\u001b[0;32m/tmp/ipykernel_3754737/906202426.py\u001b[0m in \u001b[0;36m<module>\u001b[0;34m\u001b[0m\n\u001b[1;32m      5\u001b[0m \u001b[0mhalf_steps_per_epoch\u001b[0m \u001b[0;34m=\u001b[0m \u001b[0mint\u001b[0m\u001b[0;34m(\u001b[0m\u001b[0mSTEP_SIZE_TRAIN\u001b[0m \u001b[0;34m/\u001b[0m \u001b[0;36m2\u001b[0m\u001b[0;34m)\u001b[0m\u001b[0;34m\u001b[0m\u001b[0;34m\u001b[0m\u001b[0m\n\u001b[1;32m      6\u001b[0m \u001b[0;34m\u001b[0m\u001b[0m\n\u001b[0;32m----> 7\u001b[0;31m tuner = RandomSearch(\n\u001b[0m\u001b[1;32m      8\u001b[0m     \u001b[0mbuild_model\u001b[0m\u001b[0;34m,\u001b[0m\u001b[0;34m\u001b[0m\u001b[0;34m\u001b[0m\u001b[0m\n\u001b[1;32m      9\u001b[0m     \u001b[0mobjective\u001b[0m\u001b[0;34m=\u001b[0m\u001b[0;34m'val_accuracy'\u001b[0m\u001b[0;34m,\u001b[0m\u001b[0;34m\u001b[0m\u001b[0;34m\u001b[0m\u001b[0m\n",
      "\u001b[0;32m~/.local/lib/python3.8/site-packages/keras_tuner/tuners/randomsearch.py\u001b[0m in \u001b[0;36m__init__\u001b[0;34m(self, hypermodel, objective, max_trials, seed, hyperparameters, tune_new_entries, allow_new_entries, max_retries_per_trial, max_consecutive_failed_trials, **kwargs)\u001b[0m\n\u001b[1;32m    172\u001b[0m             \u001b[0mmax_consecutive_failed_trials\u001b[0m\u001b[0;34m=\u001b[0m\u001b[0mmax_consecutive_failed_trials\u001b[0m\u001b[0;34m,\u001b[0m\u001b[0;34m\u001b[0m\u001b[0;34m\u001b[0m\u001b[0m\n\u001b[1;32m    173\u001b[0m         )\n\u001b[0;32m--> 174\u001b[0;31m         \u001b[0msuper\u001b[0m\u001b[0;34m(\u001b[0m\u001b[0;34m)\u001b[0m\u001b[0;34m.\u001b[0m\u001b[0m__init__\u001b[0m\u001b[0;34m(\u001b[0m\u001b[0moracle\u001b[0m\u001b[0;34m,\u001b[0m \u001b[0mhypermodel\u001b[0m\u001b[0;34m,\u001b[0m \u001b[0;34m**\u001b[0m\u001b[0mkwargs\u001b[0m\u001b[0;34m)\u001b[0m\u001b[0;34m\u001b[0m\u001b[0;34m\u001b[0m\u001b[0m\n\u001b[0m",
      "\u001b[0;32m~/.local/lib/python3.8/site-packages/keras_tuner/engine/tuner.py\u001b[0m in \u001b[0;36m__init__\u001b[0;34m(self, oracle, hypermodel, max_model_size, optimizer, loss, metrics, distribution_strategy, directory, project_name, logger, tuner_id, overwrite, executions_per_trial, **kwargs)\u001b[0m\n\u001b[1;32m    111\u001b[0m             )\n\u001b[1;32m    112\u001b[0m \u001b[0;34m\u001b[0m\u001b[0m\n\u001b[0;32m--> 113\u001b[0;31m         super().__init__(\n\u001b[0m\u001b[1;32m    114\u001b[0m             \u001b[0moracle\u001b[0m\u001b[0;34m=\u001b[0m\u001b[0moracle\u001b[0m\u001b[0;34m,\u001b[0m\u001b[0;34m\u001b[0m\u001b[0;34m\u001b[0m\u001b[0m\n\u001b[1;32m    115\u001b[0m             \u001b[0mhypermodel\u001b[0m\u001b[0;34m=\u001b[0m\u001b[0mhypermodel\u001b[0m\u001b[0;34m,\u001b[0m\u001b[0;34m\u001b[0m\u001b[0;34m\u001b[0m\u001b[0m\n",
      "\u001b[0;32m~/.local/lib/python3.8/site-packages/keras_tuner/engine/base_tuner.py\u001b[0m in \u001b[0;36m__init__\u001b[0;34m(self, oracle, hypermodel, directory, project_name, overwrite, **kwargs)\u001b[0m\n\u001b[1;32m    131\u001b[0m         \u001b[0;32melse\u001b[0m\u001b[0;34m:\u001b[0m\u001b[0;34m\u001b[0m\u001b[0;34m\u001b[0m\u001b[0m\n\u001b[1;32m    132\u001b[0m             \u001b[0;31m# Only populate initial space if not reloading.\u001b[0m\u001b[0;34m\u001b[0m\u001b[0;34m\u001b[0m\u001b[0;34m\u001b[0m\u001b[0m\n\u001b[0;32m--> 133\u001b[0;31m             \u001b[0mself\u001b[0m\u001b[0;34m.\u001b[0m\u001b[0m_populate_initial_space\u001b[0m\u001b[0;34m(\u001b[0m\u001b[0;34m)\u001b[0m\u001b[0;34m\u001b[0m\u001b[0;34m\u001b[0m\u001b[0m\n\u001b[0m\u001b[1;32m    134\u001b[0m \u001b[0;34m\u001b[0m\u001b[0m\n\u001b[1;32m    135\u001b[0m         \u001b[0;31m# Run in distributed mode.\u001b[0m\u001b[0;34m\u001b[0m\u001b[0;34m\u001b[0m\u001b[0;34m\u001b[0m\u001b[0m\n",
      "\u001b[0;32m~/.local/lib/python3.8/site-packages/keras_tuner/engine/base_tuner.py\u001b[0m in \u001b[0;36m_populate_initial_space\u001b[0;34m(self)\u001b[0m\n\u001b[1;32m    202\u001b[0m         \u001b[0mself\u001b[0m\u001b[0;34m.\u001b[0m\u001b[0mhypermodel\u001b[0m\u001b[0;34m.\u001b[0m\u001b[0mdeclare_hyperparameters\u001b[0m\u001b[0;34m(\u001b[0m\u001b[0mhp\u001b[0m\u001b[0;34m)\u001b[0m\u001b[0;34m\u001b[0m\u001b[0;34m\u001b[0m\u001b[0m\n\u001b[1;32m    203\u001b[0m         \u001b[0mself\u001b[0m\u001b[0;34m.\u001b[0m\u001b[0moracle\u001b[0m\u001b[0;34m.\u001b[0m\u001b[0mupdate_space\u001b[0m\u001b[0;34m(\u001b[0m\u001b[0mhp\u001b[0m\u001b[0;34m)\u001b[0m\u001b[0;34m\u001b[0m\u001b[0;34m\u001b[0m\u001b[0m\n\u001b[0;32m--> 204\u001b[0;31m         \u001b[0mself\u001b[0m\u001b[0;34m.\u001b[0m\u001b[0m_activate_all_conditions\u001b[0m\u001b[0;34m(\u001b[0m\u001b[0;34m)\u001b[0m\u001b[0;34m\u001b[0m\u001b[0;34m\u001b[0m\u001b[0m\n\u001b[0m\u001b[1;32m    205\u001b[0m \u001b[0;34m\u001b[0m\u001b[0m\n\u001b[1;32m    206\u001b[0m     \u001b[0;32mdef\u001b[0m \u001b[0msearch\u001b[0m\u001b[0;34m(\u001b[0m\u001b[0mself\u001b[0m\u001b[0;34m,\u001b[0m \u001b[0;34m*\u001b[0m\u001b[0mfit_args\u001b[0m\u001b[0;34m,\u001b[0m \u001b[0;34m**\u001b[0m\u001b[0mfit_kwargs\u001b[0m\u001b[0;34m)\u001b[0m\u001b[0;34m:\u001b[0m\u001b[0;34m\u001b[0m\u001b[0;34m\u001b[0m\u001b[0m\n",
      "\u001b[0;32m~/.local/lib/python3.8/site-packages/keras_tuner/engine/base_tuner.py\u001b[0m in \u001b[0;36m_activate_all_conditions\u001b[0;34m(self)\u001b[0m\n\u001b[1;32m    159\u001b[0m         \u001b[0mhp\u001b[0m \u001b[0;34m=\u001b[0m \u001b[0mself\u001b[0m\u001b[0;34m.\u001b[0m\u001b[0moracle\u001b[0m\u001b[0;34m.\u001b[0m\u001b[0mget_space\u001b[0m\u001b[0;34m(\u001b[0m\u001b[0;34m)\u001b[0m\u001b[0;34m\u001b[0m\u001b[0;34m\u001b[0m\u001b[0m\n\u001b[1;32m    160\u001b[0m         \u001b[0;32mwhile\u001b[0m \u001b[0;32mTrue\u001b[0m\u001b[0;34m:\u001b[0m\u001b[0;34m\u001b[0m\u001b[0;34m\u001b[0m\u001b[0m\n\u001b[0;32m--> 161\u001b[0;31m             \u001b[0mself\u001b[0m\u001b[0;34m.\u001b[0m\u001b[0mhypermodel\u001b[0m\u001b[0;34m.\u001b[0m\u001b[0mbuild\u001b[0m\u001b[0;34m(\u001b[0m\u001b[0mhp\u001b[0m\u001b[0;34m)\u001b[0m\u001b[0;34m\u001b[0m\u001b[0;34m\u001b[0m\u001b[0m\n\u001b[0m\u001b[1;32m    162\u001b[0m             \u001b[0mself\u001b[0m\u001b[0;34m.\u001b[0m\u001b[0moracle\u001b[0m\u001b[0;34m.\u001b[0m\u001b[0mupdate_space\u001b[0m\u001b[0;34m(\u001b[0m\u001b[0mhp\u001b[0m\u001b[0;34m)\u001b[0m\u001b[0;34m\u001b[0m\u001b[0;34m\u001b[0m\u001b[0m\n\u001b[1;32m    163\u001b[0m \u001b[0;34m\u001b[0m\u001b[0m\n",
      "\u001b[0;32m/tmp/ipykernel_3754737/4046563876.py\u001b[0m in \u001b[0;36mbuild_model\u001b[0;34m(hp)\u001b[0m\n\u001b[1;32m      1\u001b[0m \u001b[0;32mdef\u001b[0m \u001b[0mbuild_model\u001b[0m\u001b[0;34m(\u001b[0m\u001b[0mhp\u001b[0m\u001b[0;34m)\u001b[0m\u001b[0;34m:\u001b[0m\u001b[0;34m\u001b[0m\u001b[0;34m\u001b[0m\u001b[0m\n\u001b[0;32m----> 2\u001b[0;31m         \u001b[0mmodel\u001b[0m \u001b[0;34m=\u001b[0m \u001b[0mTransferNet\u001b[0m\u001b[0;34m(\u001b[0m\u001b[0mbase_model_weights\u001b[0m\u001b[0;34m=\u001b[0m\u001b[0;34m'imagenet'\u001b[0m\u001b[0;34m)\u001b[0m\u001b[0;34m\u001b[0m\u001b[0;34m\u001b[0m\u001b[0m\n\u001b[0m\u001b[1;32m      3\u001b[0m \u001b[0;34m\u001b[0m\u001b[0m\n\u001b[1;32m      4\u001b[0m        \u001b[0;31m# Hiperparámetro para el learning rate\u001b[0m\u001b[0;34m\u001b[0m\u001b[0;34m\u001b[0m\u001b[0;34m\u001b[0m\u001b[0m\n\u001b[1;32m      5\u001b[0m         \u001b[0mlr\u001b[0m \u001b[0;34m=\u001b[0m \u001b[0mhp\u001b[0m\u001b[0;34m.\u001b[0m\u001b[0mFloat\u001b[0m\u001b[0;34m(\u001b[0m\u001b[0;34m'learning_rate'\u001b[0m\u001b[0;34m,\u001b[0m \u001b[0mmin_value\u001b[0m\u001b[0;34m=\u001b[0m\u001b[0;36m1e-4\u001b[0m\u001b[0;34m,\u001b[0m \u001b[0mmax_value\u001b[0m\u001b[0;34m=\u001b[0m\u001b[0;36m1e-2\u001b[0m\u001b[0;34m,\u001b[0m \u001b[0msampling\u001b[0m\u001b[0;34m=\u001b[0m\u001b[0;34m'LOG'\u001b[0m\u001b[0;34m,\u001b[0m \u001b[0mdefault\u001b[0m\u001b[0;34m=\u001b[0m\u001b[0;36m1e-3\u001b[0m\u001b[0;34m)\u001b[0m\u001b[0;34m\u001b[0m\u001b[0;34m\u001b[0m\u001b[0m\n",
      "\u001b[0;31mNameError\u001b[0m: name 'TransferNet' is not defined"
     ]
    }
   ],
   "source": [
    "from keras_tuner.tuners import RandomSearch\n",
    "\n",
    "# Usar solo la mitad de los datos para acelerar la búsqueda\n",
    "\n",
    "half_steps_per_epoch = int(STEP_SIZE_TRAIN / 2)\n",
    "\n",
    "tuner = RandomSearch(\n",
    "    build_model,\n",
    "    objective='val_accuracy',\n",
    "    max_trials=5,\n",
    "    executions_per_trial=3,\n",
    "    directory='random_search_dir',\n",
    "    project_name='project_name_here'\n",
    ")\n",
    "\n",
    "\n",
    "tuner.search(train_data,\n",
    "             validation_data=validation_data,\n",
    "            steps_per_epoch=half_steps_per_epoch,\n",
    "             epochs=5,\n",
    "             callbacks=[early_stopping])\n"
   ]
  },
  {
   "cell_type": "code",
   "execution_count": null,
   "id": "c623f1d9",
   "metadata": {},
   "outputs": [],
   "source": []
  }
 ],
 "metadata": {
  "kernelspec": {
   "display_name": "Python 3 (ipykernel)",
   "language": "python",
   "name": "python3"
  },
  "language_info": {
   "codemirror_mode": {
    "name": "ipython",
    "version": 3
   },
   "file_extension": ".py",
   "mimetype": "text/x-python",
   "name": "python",
   "nbconvert_exporter": "python",
   "pygments_lexer": "ipython3",
   "version": "3.8.12"
  }
 },
 "nbformat": 4,
 "nbformat_minor": 5
}
